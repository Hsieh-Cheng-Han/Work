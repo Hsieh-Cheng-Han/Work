{
  "nbformat": 4,
  "nbformat_minor": 0,
  "metadata": {
    "colab": {
      "name": "課程1 : AI導論與機器學習.ipynb",
      "provenance": [],
      "toc_visible": true,
      "authorship_tag": "ABX9TyMGGPehAosKchEWvSU4YuSD",
      "include_colab_link": true
    },
    "kernelspec": {
      "name": "python3",
      "display_name": "Python 3"
    }
  },
  "cells": [
    {
      "cell_type": "markdown",
      "metadata": {
        "id": "view-in-github",
        "colab_type": "text"
      },
      "source": [
        "<a href=\"https://colab.research.google.com/github/Hsieh-Cheng-Han/Work/blob/master/%E8%AA%B2%E7%A8%8B1_AI%E5%B0%8E%E8%AB%96%E8%88%87%E6%A9%9F%E5%99%A8%E5%AD%B8%E7%BF%92.ipynb\" target=\"_parent\"><img src=\"https://colab.research.google.com/assets/colab-badge.svg\" alt=\"Open In Colab\"/></a>"
      ]
    },
    {
      "cell_type": "markdown",
      "metadata": {
        "id": "icp7qWZXIqNo",
        "colab_type": "text"
      },
      "source": [
        "#**課程1 : AI導論與機器學習**\n"
      ]
    },
    {
      "cell_type": "markdown",
      "metadata": {
        "id": "JlxFZB7vJGC-",
        "colab_type": "text"
      },
      "source": [
        "歡迎大家來到AI研究社！！\n",
        "\n",
        "之後的課程基本上都會使用**Colab**進行程式撰寫\n",
        "\n",
        "也請大家之後能攜帶筆電方便操作 :)"
      ]
    },
    {
      "cell_type": "markdown",
      "metadata": {
        "id": "CP-lTZsbJlel",
        "colab_type": "text"
      },
      "source": [
        "## 什麼是**Colab**?"
      ]
    },
    {
      "cell_type": "markdown",
      "metadata": {
        "id": "CmywGJsZJlyy",
        "colab_type": "text"
      },
      "source": [
        "**Colab**是Google最新釋出的一個功能，結合了Python的Jypyter Notebook功能以及雲端硬碟，讓每個人都可以輕鬆的撰寫AI程式而不需要自己安裝環境。"
      ]
    },
    {
      "cell_type": "markdown",
      "metadata": {
        "id": "uHpAwohuLX_P",
        "colab_type": "text"
      },
      "source": [
        "Jupytet Notebook就如同大家現在看到的，把Python的程式碼用類似筆記本的方式寫成一個個區塊，讓我們可以很好管理程式碼，同時也能增加文字作為教學使用。"
      ]
    },
    {
      "cell_type": "markdown",
      "metadata": {
        "id": "GKZJbVUPMeVI",
        "colab_type": "text"
      },
      "source": [
        "寫好程式碼後，按一下旁邊的執行鍵就可以執行此區塊的程式碼。\n",
        "\n",
        "執行完後出現最左邊出現的[1]代表這是第一個已執行程式碼，之後再執行其他的程式碼就會顯示[2]"
      ]
    },
    {
      "cell_type": "code",
      "metadata": {
        "id": "tSr8pT1vI7LX",
        "colab_type": "code",
        "outputId": "7453f7d3-ae3d-4fe8-cdae-fc689c38fa06",
        "colab": {
          "base_uri": "https://localhost:8080/",
          "height": 35
        }
      },
      "source": [
        "# 輸出x平方\n",
        "x = 3\n",
        "print(x**2)"
      ],
      "execution_count": 0,
      "outputs": [
        {
          "output_type": "stream",
          "text": [
            "9\n"
          ],
          "name": "stdout"
        }
      ]
    },
    {
      "cell_type": "markdown",
      "metadata": {
        "id": "61gYJqcoM2_E",
        "colab_type": "text"
      },
      "source": [
        "程式碼執行完後，變數會繼續存在不會消失"
      ]
    },
    {
      "cell_type": "code",
      "metadata": {
        "id": "JZkZw7UfMtbK",
        "colab_type": "code",
        "outputId": "538b7713-5fb4-484d-834c-d139f01ef659",
        "colab": {
          "base_uri": "https://localhost:8080/",
          "height": 35
        }
      },
      "source": [
        "y = x + 1\n",
        "print(y)"
      ],
      "execution_count": 0,
      "outputs": [
        {
          "output_type": "stream",
          "text": [
            "4\n"
          ],
          "name": "stdout"
        }
      ]
    },
    {
      "cell_type": "markdown",
      "metadata": {
        "id": "3n1avJTFOO3g",
        "colab_type": "text"
      },
      "source": [
        "由於課程時間因素，沒辦法花時間教大家Python的語法，如果之前沒有碰過的希望能自行研讀。\n",
        "\n",
        "推薦課程是Coursera上的Python For Everybody，可以填寫獎學金申請就不用繳錢囉。"
      ]
    },
    {
      "cell_type": "markdown",
      "metadata": {
        "id": "A6PSBUeXPp_m",
        "colab_type": "text"
      },
      "source": [
        "## 機器學習基礎"
      ]
    },
    {
      "cell_type": "markdown",
      "metadata": {
        "id": "EBoiMcV7QEOk",
        "colab_type": "text"
      },
      "source": [
        "機器學習問題分為兩大主軸：\n",
        "\n",
        "1. 監督式學習(Supervised Learning)\n",
        "\n",
        "2. 非監督式學習(Unsupervised Learning)"
      ]
    },
    {
      "cell_type": "markdown",
      "metadata": {
        "id": "xpr4IDzdQSwt",
        "colab_type": "text"
      },
      "source": [
        "我們剛剛在投影片上看到的機器學習屬於**監督式學習**，也就是我們的資料含有標籤**Y**\n",
        "\n",
        "可以想成**Y**是我們考卷的正確答案，我們要訓練機器看到題目**X**之後能得到正確答案(或是越接近越好)\n",
        "\n",
        "由於訓練過程中需要人類提供正確解答讓機器學習(監督機器)，所以被稱為監督式學習，也是目前最常見的學習模式。\n",
        "\n",
        "當機器被訓練好後，給機器一個新的**X**，就能給出預測出的**Y**，因次監督式學習常被拿來讓機器做**預測**。\n",
        "\n",
        "例如：我們根據過往的氣象資料(**X**)和是否下雨(**Y**)訓練一個機器，之後輸入未來的氣象資料就能預測是否會下雨了！！"
      ]
    },
    {
      "cell_type": "markdown",
      "metadata": {
        "id": "Y1v-4gUURkBE",
        "colab_type": "text"
      },
      "source": [
        "## 監督式學習"
      ]
    },
    {
      "cell_type": "markdown",
      "metadata": {
        "id": "8xDefBFJTAz8",
        "colab_type": "text"
      },
      "source": [
        "監督式學習又可以依照標籤**Y**的型態分為兩大類：\n",
        "\n",
        "1. 迴歸(Regression)\n",
        "2. 分類(Classification)"
      ]
    },
    {
      "cell_type": "markdown",
      "metadata": {
        "id": "vcEW46eJssZU",
        "colab_type": "text"
      },
      "source": [
        "### 迴歸 "
      ]
    },
    {
      "cell_type": "markdown",
      "metadata": {
        "id": "0kv-H7ixs0NZ",
        "colab_type": "text"
      },
      "source": [
        "迴歸指的是**Y**的型態為連續(continuous)，意思是**Y**的值可以為任意數字不受限制。\n",
        "\n",
        "舉例來說，時間可以是1秒, 1.34秒, 12又1/3秒,...\n",
        "\n",
        "下面這個範例將示範最簡單的機器學習：**線性迴歸**\n",
        "\n",
        "我們今天想要預測公車的班次時間，已知有10筆公車資料如下："
      ]
    },
    {
      "cell_type": "markdown",
      "metadata": {
        "id": "fuN6_iVYvU_i",
        "colab_type": "text"
      },
      "source": [
        "![Data](https://drive.google.com/uc?id=1SLs9nLGIhy_0NAWD5HtSll35ldaFiibz)"
      ]
    },
    {
      "cell_type": "markdown",
      "metadata": {
        "id": "NykKKGlZ1K-6",
        "colab_type": "text"
      },
      "source": [
        "線性迴歸的演算法如下：\n",
        "\n",
        "$\\hat{y} = \\beta _{0} + \\beta _{1}x_{1} +  \\beta _{2}x_{2} + ... +  \\beta _{n}x_{n} $\n",
        "\n",
        "其中$x_{1},x_{2}...x_{n}$是資料的特徵\n",
        "\n",
        "$ \\beta _{1},\\beta_{2}...$是每個特徵相對應的係數, $\\beta_{0}$則稱為截距\n",
        "\n",
        "$\\hat{y}$則是模型預測的結果，由於此結果等於是將資料的特徵線性相加，因此稱為\"線性迴歸\""
      ]
    },
    {
      "cell_type": "code",
      "metadata": {
        "id": "duOt-HeBTNEU",
        "colab_type": "code",
        "colab": {}
      },
      "source": [
        "# 以下開始進行線性迴歸，首先先載入需要的模組\n",
        "\n",
        "import numpy as np  # numpy專門做數值計算\n",
        "from sklearn.linear_model import LinearRegression # sklearn 做機器學習"
      ],
      "execution_count": 0,
      "outputs": []
    },
    {
      "cell_type": "code",
      "metadata": {
        "id": "zA4y_dFi3qLB",
        "colab_type": "code",
        "colab": {}
      },
      "source": [
        "# 讀入資料\n",
        "X = np.array([[15, 30], [20, 20], [18, 25], [22, 22],[35, 29]\n",
        "              ,[33, 21],[27, 23],[29, 27],[24, 20],[27, 35]])\n",
        "Y = np.array([18,25,23,26,28,32,28,27,27,22])"
      ],
      "execution_count": 0,
      "outputs": []
    },
    {
      "cell_type": "code",
      "metadata": {
        "id": "yFFP00WL5G1G",
        "colab_type": "code",
        "outputId": "64c25433-f80d-4cf8-9d47-8fe7695a9fe2",
        "colab": {
          "base_uri": "https://localhost:8080/",
          "height": 35
        }
      },
      "source": [
        "# 建立一個線性迴歸模型(還未學習)\n",
        "model = LinearRegression()\n",
        "# 丟入資料並開始訓練\n",
        "model.fit(X,Y)"
      ],
      "execution_count": 0,
      "outputs": [
        {
          "output_type": "execute_result",
          "data": {
            "text/plain": [
              "LinearRegression(copy_X=True, fit_intercept=True, n_jobs=None, normalize=False)"
            ]
          },
          "metadata": {
            "tags": []
          },
          "execution_count": 5
        }
      ]
    },
    {
      "cell_type": "code",
      "metadata": {
        "id": "gmsIQUm75XQX",
        "colab_type": "code",
        "outputId": "39a32324-00ee-415c-ead3-d121bec63d2a",
        "colab": {
          "base_uri": "https://localhost:8080/",
          "height": 52
        }
      },
      "source": [
        "# 查看模型的係數\n",
        "print(model.coef_)\n",
        "# 查看模型的截距\n",
        "print(model.intercept_)"
      ],
      "execution_count": 0,
      "outputs": [
        {
          "output_type": "stream",
          "text": [
            "[ 0.49220312 -0.48093142]\n",
            "25.414393835012124\n"
          ],
          "name": "stdout"
        }
      ]
    },
    {
      "cell_type": "markdown",
      "metadata": {
        "id": "Kff2Wfqv67xL",
        "colab_type": "text"
      },
      "source": [
        "根據結果，模型的演算法為：\n",
        "\n",
        "$\\hat{y} = 25.41 + 0.49x_{1} -  0.48x_{2}$\n",
        "\n",
        "我們看看到底預測的準不準："
      ]
    },
    {
      "cell_type": "code",
      "metadata": {
        "id": "2BnlgxWt5i3c",
        "colab_type": "code",
        "outputId": "00aaaae9-a714-4250-c447-bd298137d90e",
        "colab": {
          "base_uri": "https://localhost:8080/",
          "height": 104
        }
      },
      "source": [
        "# 模型的預測結果\n",
        "Y_fit = model.predict(X)\n",
        "print('以下為預測結果：')\n",
        "print(Y_fit)\n",
        "print('以下為真實答案：')\n",
        "print(Y)"
      ],
      "execution_count": 0,
      "outputs": [
        {
          "output_type": "stream",
          "text": [
            "以下為預測結果：\n",
            "[18.36949801 25.63982779 22.25076446 25.66237119 28.69449178 31.55753691\n",
            " 27.64245536 26.70313592 27.60864027 21.87127832]\n",
            "以下為真實答案：\n",
            "[18 25 23 26 28 32 28 27 27 22]\n"
          ],
          "name": "stdout"
        }
      ]
    },
    {
      "cell_type": "markdown",
      "metadata": {
        "id": "w3YVAipV84sO",
        "colab_type": "text"
      },
      "source": [
        "預測結果看起來雖然有誤差，但還算可以接受。\n",
        "\n",
        "對於迴歸問題而言，損失函數的定義為$L = (\\hat{y} - y)^{2}$，這邊節省時間不再計算。\n",
        "\n",
        "線性迴歸是個非常簡單的演算法，因此實務上不太使用，但卻是眾多迴歸模型的基礎。"
      ]
    },
    {
      "cell_type": "markdown",
      "metadata": {
        "id": "p9j22x7CGbTF",
        "colab_type": "text"
      },
      "source": [
        "![Data](https://drive.google.com/uc?id=14hfz6SY7F7dlimkLYSMWCNhowH6Gywxl)"
      ]
    },
    {
      "cell_type": "markdown",
      "metadata": {
        "id": "CdkFIXzCAU2Y",
        "colab_type": "text"
      },
      "source": [
        "###分類"
      ]
    },
    {
      "cell_type": "markdown",
      "metadata": {
        "id": "1uFP8Rb0BJIh",
        "colab_type": "text"
      },
      "source": [
        "分類指的是**Y**的型態為離散(discrete)，意思是**Y**的值被侷限在某些特定的值(通常為整數)。\n",
        "\n",
        "舉例來說，如果**Y**只能是0或1，這就是一個分類的問題，而且叫做『二元分類』。\n",
        "\n",
        "二元分類是最常見的問題，日常生活中也可以看到。例如：好不好吃/會不會下雨...\n",
        "\n",
        "我們這邊介紹分類問題中最基礎的演算法：**決策樹(Decision Tree)**。\n",
        "\n",
        "決策樹概念非常直觀，藉由資料的特徵去不斷分類，直到得到預測結果。\n",
        "\n",
        "假設我們想要預測一間披薩店的披薩好不好吃：\n"
      ]
    },
    {
      "cell_type": "markdown",
      "metadata": {
        "id": "m2qEeNTDH24z",
        "colab_type": "text"
      },
      "source": [
        "![alt text](https://drive.google.com/uc?id=16gHW9fj9Gkvey1-qKbLkA6QqatDo6Kpa)"
      ]
    },
    {
      "cell_type": "markdown",
      "metadata": {
        "id": "PYT9q69bIGct",
        "colab_type": "text"
      },
      "source": [
        "這個演算法是不是一目瞭然呢？\n",
        "\n",
        "最後，分類問題的損失函數定義為 = 分類錯誤的個數/全部資料個數。\n",
        "\n",
        "如果100個資料中，機器預測正確的個數為80個，就代表錯誤率為20%。"
      ]
    },
    {
      "cell_type": "markdown",
      "metadata": {
        "id": "83lIDfUJjyY7",
        "colab_type": "text"
      },
      "source": [
        "## 非監督式學習"
      ]
    },
    {
      "cell_type": "markdown",
      "metadata": {
        "id": "iyWBSVAij24y",
        "colab_type": "text"
      },
      "source": [
        "非監督式學習代表我們今天的資料沒有標籤**Y**，我們要讓機器學習的是『在資料本身中找尋規律』。\n",
        "\n",
        "非監督式學習最常用的場景為**分群(Clustering)**，也就是將資料分成不同群體，使得：\n",
        "\n",
        "1. 每個群體之間成員相似\n",
        "\n",
        "2. 不同群體的成員不相似"
      ]
    },
    {
      "cell_type": "markdown",
      "metadata": {
        "id": "BjAyuzWglo-J",
        "colab_type": "text"
      },
      "source": [
        "舉例來說，班上有30個人，老師想要找出哪些學生適合讀一類組，哪些學生適合讀二類組。這時資料的特徵可能為『文科成績』和『理科成績』，老師便能夠依據資料將學生分成兩類。\n",
        "\n",
        "如下圖所示，橫軸為『文科成績』，縱軸為『理科成績』："
      ]
    },
    {
      "cell_type": "markdown",
      "metadata": {
        "id": "_9Cp16xGn94z",
        "colab_type": "text"
      },
      "source": [
        "![alt text](https://drive.google.com/uc?id=1Dlyfbpm-jurhvtvOwJzsZed8d_ssJsag)"
      ]
    },
    {
      "cell_type": "markdown",
      "metadata": {
        "id": "GTIJ5TMIoUdH",
        "colab_type": "text"
      },
      "source": [
        "經過分群之後，可以將資料分成如下兩群(紅色一群，藍色一群)："
      ]
    },
    {
      "cell_type": "markdown",
      "metadata": {
        "id": "1OlllRHnobc1",
        "colab_type": "text"
      },
      "source": [
        "![alt text](https://drive.google.com/uc?id=1rAu7zpcVovs1dBl4L6IWthvDtonkyZV6)"
      ]
    },
    {
      "cell_type": "markdown",
      "metadata": {
        "id": "zwUYHvx6on0x",
        "colab_type": "text"
      },
      "source": [
        "**K = 2**代表我們告訴機器要分成兩群，如果設定**K**為其他數字就會分成不同數目的群體。"
      ]
    },
    {
      "cell_type": "markdown",
      "metadata": {
        "id": "DcUVf19Lo7Qq",
        "colab_type": "text"
      },
      "source": [
        "非監督式學習不需要人類給機器標準答案(**Y**)，可以藉由資料特徵本身找出有趣的規則。因此被視為是未來人工智慧的聚焦方向，畢竟這才是真正讓機器自主學習的方式。"
      ]
    },
    {
      "cell_type": "code",
      "metadata": {
        "id": "eU74a5RUpWzE",
        "colab_type": "code",
        "colab": {}
      },
      "source": [
        ""
      ],
      "execution_count": 0,
      "outputs": []
    }
  ]
}